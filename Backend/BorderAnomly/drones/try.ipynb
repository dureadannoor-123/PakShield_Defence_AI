{
 "cells": [
  {
   "cell_type": "code",
   "execution_count": 1,
   "id": "ad55b70e",
   "metadata": {},
   "outputs": [
    {
     "name": "stdout",
     "output_type": "stream",
     "text": [
      "[INFO] Loading model...\n",
      "[INFO] Running inference...\n",
      "\n",
      "image 1/1 c:\\Users\\dell\\Desktop\\Uraan\\drones\\d3.jpeg: 448x640 1 drone, 1547.5ms\n",
      "Speed: 15.0ms preprocess, 1547.5ms inference, 26.8ms postprocess per image at shape (1, 3, 448, 640)\n",
      "[INFO] Visualizing results...\n",
      "[INFO] Saving results to output.jpg ...\n"
     ]
    }
   ],
   "source": [
    "from ultralytics import YOLO\n",
    "import cv2\n",
    "\n",
    "class YOLOBackend:\n",
    "    def __init__(self, model_path=\"best.pt\", image_path=\"d3.jpeg\", save_path=\"output.jpg\"):\n",
    "        self.model_path = model_path\n",
    "        self.image_path = image_path\n",
    "        self.save_path = save_path\n",
    "\n",
    "        # Flow execute karo\n",
    "        self.load_model()\n",
    "        self.run_inference()\n",
    "        self.visualize_results()\n",
    "        self.save_results()\n",
    "\n",
    "    def load_model(self):\n",
    "        print(\"[INFO] Loading model...\")\n",
    "        self.model = YOLO(self.model_path)\n",
    "\n",
    "    def run_inference(self):\n",
    "        print(\"[INFO] Running inference...\")\n",
    "        self.results = self.model(self.image_path)\n",
    "\n",
    "    def visualize_results(self):\n",
    "        print(\"[INFO] Visualizing results...\")\n",
    "        for r in self.results:\n",
    "            img = r.plot()\n",
    "            cv2.imshow(\"Detections\", img)\n",
    "            cv2.waitKey(0)\n",
    "            cv2.destroyAllWindows()\n",
    "\n",
    "    def save_results(self):\n",
    "        print(f\"[INFO] Saving results to {self.save_path} ...\")\n",
    "        self.results[0].save(filename=self.save_path)\n",
    "\n",
    "if __name__ == \"__main__\":\n",
    "    YOLOBackend()\n"
   ]
  },
  {
   "cell_type": "code",
   "execution_count": null,
   "id": "d08b590f",
   "metadata": {},
   "outputs": [],
   "source": []
  }
 ],
 "metadata": {
  "kernelspec": {
   "display_name": "Python 3",
   "language": "python",
   "name": "python3"
  },
  "language_info": {
   "codemirror_mode": {
    "name": "ipython",
    "version": 3
   },
   "file_extension": ".py",
   "mimetype": "text/x-python",
   "name": "python",
   "nbconvert_exporter": "python",
   "pygments_lexer": "ipython3",
   "version": "3.11.9"
  }
 },
 "nbformat": 4,
 "nbformat_minor": 5
}
